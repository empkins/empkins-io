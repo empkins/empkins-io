{
 "cells": [
  {
   "cell_type": "code",
   "execution_count": 67,
   "metadata": {},
   "outputs": [],
   "source": [
    "from empkins_io.sensors import empatica\n",
    "\n",
    "from pathlib import Path"
   ]
  },
  {
   "cell_type": "code",
   "execution_count": 68,
   "metadata": {},
   "outputs": [],
   "source": [
    "%reload_ext autoreload\n",
    "%autoreload 2"
   ]
  },
  {
   "cell_type": "code",
   "execution_count": 82,
   "metadata": {},
   "outputs": [],
   "source": [
    "path = Path(\"/Users/abelluc/FAUbox/EmpkinS D03/AP_03_Macro2_0/Study Documents/Empatica/Test_Data/VPXX-3YK33141NH\")"
   ]
  },
  {
   "cell_type": "code",
   "execution_count": 120,
   "metadata": {},
   "outputs": [],
   "source": [
    "empatica_dataset = empatica.EmpaticaDataset(path, index_type=\"local_datetime\", tz=\"Europe/Berlin\")"
   ]
  },
  {
   "cell_type": "code",
   "execution_count": 121,
   "metadata": {},
   "outputs": [
    {
     "data": {
      "text/html": [
       "<div>\n",
       "<style scoped>\n",
       "    .dataframe tbody tr th:only-of-type {\n",
       "        vertical-align: middle;\n",
       "    }\n",
       "\n",
       "    .dataframe tbody tr th {\n",
       "        vertical-align: top;\n",
       "    }\n",
       "\n",
       "    .dataframe thead th {\n",
       "        text-align: right;\n",
       "    }\n",
       "</style>\n",
       "<table border=\"1\" class=\"dataframe\">\n",
       "  <thead>\n",
       "    <tr style=\"text-align: right;\">\n",
       "      <th></th>\n",
       "      <th>acc_x</th>\n",
       "      <th>acc_y</th>\n",
       "      <th>acc_z</th>\n",
       "    </tr>\n",
       "    <tr>\n",
       "      <th>t</th>\n",
       "      <th></th>\n",
       "      <th></th>\n",
       "      <th></th>\n",
       "    </tr>\n",
       "  </thead>\n",
       "  <tbody>\n",
       "    <tr>\n",
       "      <th>0.000000</th>\n",
       "      <td>87</td>\n",
       "      <td>-1490</td>\n",
       "      <td>1428</td>\n",
       "    </tr>\n",
       "    <tr>\n",
       "      <th>0.015623</th>\n",
       "      <td>80</td>\n",
       "      <td>-1511</td>\n",
       "      <td>1404</td>\n",
       "    </tr>\n",
       "    <tr>\n",
       "      <th>0.031247</th>\n",
       "      <td>49</td>\n",
       "      <td>-1491</td>\n",
       "      <td>1418</td>\n",
       "    </tr>\n",
       "    <tr>\n",
       "      <th>0.046870</th>\n",
       "      <td>42</td>\n",
       "      <td>-1482</td>\n",
       "      <td>1451</td>\n",
       "    </tr>\n",
       "    <tr>\n",
       "      <th>0.062494</th>\n",
       "      <td>47</td>\n",
       "      <td>-1481</td>\n",
       "      <td>1436</td>\n",
       "    </tr>\n",
       "    <tr>\n",
       "      <th>...</th>\n",
       "      <td>...</td>\n",
       "      <td>...</td>\n",
       "      <td>...</td>\n",
       "    </tr>\n",
       "    <tr>\n",
       "      <th>113.410221</th>\n",
       "      <td>-79</td>\n",
       "      <td>-42</td>\n",
       "      <td>2095</td>\n",
       "    </tr>\n",
       "    <tr>\n",
       "      <th>113.425845</th>\n",
       "      <td>-68</td>\n",
       "      <td>-57</td>\n",
       "      <td>2069</td>\n",
       "    </tr>\n",
       "    <tr>\n",
       "      <th>113.441468</th>\n",
       "      <td>-65</td>\n",
       "      <td>-56</td>\n",
       "      <td>2071</td>\n",
       "    </tr>\n",
       "    <tr>\n",
       "      <th>113.457091</th>\n",
       "      <td>-79</td>\n",
       "      <td>-42</td>\n",
       "      <td>2070</td>\n",
       "    </tr>\n",
       "    <tr>\n",
       "      <th>113.472715</th>\n",
       "      <td>-61</td>\n",
       "      <td>-46</td>\n",
       "      <td>2066</td>\n",
       "    </tr>\n",
       "  </tbody>\n",
       "</table>\n",
       "<p>7264 rows × 3 columns</p>\n",
       "</div>"
      ],
      "text/plain": [
       "            acc_x  acc_y  acc_z\n",
       "t                              \n",
       "0.000000       87  -1490   1428\n",
       "0.015623       80  -1511   1404\n",
       "0.031247       49  -1491   1418\n",
       "0.046870       42  -1482   1451\n",
       "0.062494       47  -1481   1436\n",
       "...           ...    ...    ...\n",
       "113.410221    -79    -42   2095\n",
       "113.425845    -68    -57   2069\n",
       "113.441468    -65    -56   2071\n",
       "113.457091    -79    -42   2070\n",
       "113.472715    -61    -46   2066\n",
       "\n",
       "[7264 rows x 3 columns]"
      ]
     },
     "execution_count": 121,
     "metadata": {},
     "output_type": "execute_result"
    }
   ],
   "source": [
    "empatica_dataset.acc"
   ]
  }
 ],
 "metadata": {
  "kernelspec": {
   "display_name": "empkins_d03_micro_analysis",
   "language": "python",
   "name": "empkins_d03_micro_analysis"
  },
  "language_info": {
   "codemirror_mode": {
    "name": "ipython",
    "version": 3
   },
   "file_extension": ".py",
   "mimetype": "text/x-python",
   "name": "python",
   "nbconvert_exporter": "python",
   "pygments_lexer": "ipython3",
   "version": "3.9.8"
  }
 },
 "nbformat": 4,
 "nbformat_minor": 2
}
