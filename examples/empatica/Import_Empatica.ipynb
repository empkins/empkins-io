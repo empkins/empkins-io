{
 "cells": [
  {
   "cell_type": "code",
   "execution_count": 87,
   "metadata": {},
   "outputs": [],
   "source": [
    "from pathlib import Path\n",
    "\n",
    "from src.empkins_io.sensors import empatica"
   ]
  },
  {
   "cell_type": "code",
   "execution_count": 88,
   "metadata": {},
   "outputs": [],
   "source": [
    "%reload_ext autoreload\n",
    "%autoreload 2\n",
    "\n",
    "%matplotlib widget"
   ]
  },
  {
   "cell_type": "code",
   "execution_count": 114,
   "metadata": {},
   "outputs": [],
   "source": [
    "path = Path(\n",
    "    \"/Users/abelluc/FAUbox/EmpkinS D03/AP_03_Macro2_0/Study Documents/Empatica/Test_Data/1/participant_data/2024-01-04/VPXX-3YK33141NH/raw_data/v6/1-1-VPXX_1704360505.avro\"\n",
    ")"
   ]
  },
  {
   "cell_type": "code",
   "execution_count": 115,
   "metadata": {},
   "outputs": [],
   "source": [
    "empatica_dataset = empatica.EmpaticaDataset(path, index_type=\"local_datetime\", tz=\"Europe/Berlin\")"
   ]
  },
  {
   "cell_type": "code",
   "execution_count": 150,
   "metadata": {},
   "outputs": [
    {
     "data": {
      "text/html": [
       "<div>\n",
       "<style scoped>\n",
       "    .dataframe tbody tr th:only-of-type {\n",
       "        vertical-align: middle;\n",
       "    }\n",
       "\n",
       "    .dataframe tbody tr th {\n",
       "        vertical-align: top;\n",
       "    }\n",
       "\n",
       "    .dataframe thead th {\n",
       "        text-align: right;\n",
       "    }\n",
       "</style>\n",
       "<table border=\"1\" class=\"dataframe\">\n",
       "  <thead>\n",
       "    <tr style=\"text-align: right;\">\n",
       "      <th></th>\n",
       "      <th>temperature_values</th>\n",
       "    </tr>\n",
       "    <tr>\n",
       "      <th>date (Europe/Berlin)</th>\n",
       "      <th></th>\n",
       "    </tr>\n",
       "  </thead>\n",
       "  <tbody>\n",
       "    <tr>\n",
       "      <th>2024-01-04 10:28:26.492359+01:00</th>\n",
       "      <td>25.343750</td>\n",
       "    </tr>\n",
       "    <tr>\n",
       "      <th>2024-01-04 10:28:27.492605+01:00</th>\n",
       "      <td>25.851562</td>\n",
       "    </tr>\n",
       "    <tr>\n",
       "      <th>2024-01-04 10:28:28.492851+01:00</th>\n",
       "      <td>26.257812</td>\n",
       "    </tr>\n",
       "    <tr>\n",
       "      <th>2024-01-04 10:28:29.493097+01:00</th>\n",
       "      <td>26.546875</td>\n",
       "    </tr>\n",
       "    <tr>\n",
       "      <th>2024-01-04 10:28:30.493343+01:00</th>\n",
       "      <td>26.718750</td>\n",
       "    </tr>\n",
       "    <tr>\n",
       "      <th>...</th>\n",
       "      <td>...</td>\n",
       "    </tr>\n",
       "    <tr>\n",
       "      <th>2024-01-04 10:43:21.712520+01:00</th>\n",
       "      <td>32.781250</td>\n",
       "    </tr>\n",
       "    <tr>\n",
       "      <th>2024-01-04 10:43:22.712766+01:00</th>\n",
       "      <td>32.796875</td>\n",
       "    </tr>\n",
       "    <tr>\n",
       "      <th>2024-01-04 10:43:23.713011+01:00</th>\n",
       "      <td>32.781250</td>\n",
       "    </tr>\n",
       "    <tr>\n",
       "      <th>2024-01-04 10:43:24.713257+01:00</th>\n",
       "      <td>32.781250</td>\n",
       "    </tr>\n",
       "    <tr>\n",
       "      <th>2024-01-04 10:43:25.713503+01:00</th>\n",
       "      <td>32.789062</td>\n",
       "    </tr>\n",
       "  </tbody>\n",
       "</table>\n",
       "<p>900 rows × 1 columns</p>\n",
       "</div>"
      ],
      "text/plain": [
       "                                  temperature_values\n",
       "date (Europe/Berlin)                                \n",
       "2024-01-04 10:28:26.492359+01:00           25.343750\n",
       "2024-01-04 10:28:27.492605+01:00           25.851562\n",
       "2024-01-04 10:28:28.492851+01:00           26.257812\n",
       "2024-01-04 10:28:29.493097+01:00           26.546875\n",
       "2024-01-04 10:28:30.493343+01:00           26.718750\n",
       "...                                              ...\n",
       "2024-01-04 10:43:21.712520+01:00           32.781250\n",
       "2024-01-04 10:43:22.712766+01:00           32.796875\n",
       "2024-01-04 10:43:23.713011+01:00           32.781250\n",
       "2024-01-04 10:43:24.713257+01:00           32.781250\n",
       "2024-01-04 10:43:25.713503+01:00           32.789062\n",
       "\n",
       "[900 rows x 1 columns]"
      ]
     },
     "execution_count": 150,
     "metadata": {},
     "output_type": "execute_result"
    }
   ],
   "source": [
    "empatica_dataset.temperature"
   ]
  },
  {
   "cell_type": "code",
   "execution_count": 131,
   "metadata": {},
   "outputs": [],
   "source": [
    "folder_path = Path(\n",
    "    \"/Users/abelluc/FAUbox/EmpkinS D03/AP_03_Macro2_0/Study Documents/Empatica/Test_Data/1/participant_data/2024-01-04/VPXX-3YK33141NH/raw_data/v6\"\n",
    ")"
   ]
  },
  {
   "cell_type": "code",
   "execution_count": 166,
   "metadata": {},
   "outputs": [],
   "source": [
    "empatica_dataset_folder = empatica.EmpaticaDataset(folder_path, index_type=\"local_datetime\", tz=\"Europe/Berlin\")"
   ]
  },
  {
   "cell_type": "code",
   "execution_count": 181,
   "metadata": {},
   "outputs": [
    {
     "ename": "KeyError",
     "evalue": "'timestampStart'",
     "output_type": "error",
     "traceback": [
      "\u001b[0;31m---------------------------------------------------------------------------\u001b[0m",
      "\u001b[0;31mKeyError\u001b[0m                                  Traceback (most recent call last)",
      "\u001b[0;32m/var/folders/3_/6bdchgy93zggkgq8kw8gyssr0000gn/T/ipykernel_1841/439625541.py\u001b[0m in \u001b[0;36m<cell line: 1>\u001b[0;34m()\u001b[0m\n\u001b[0;32m----> 1\u001b[0;31m \u001b[0mempatica_dataset_folder\u001b[0m\u001b[0;34m.\u001b[0m\u001b[0mdata_as_df\u001b[0m\u001b[0;34m(\u001b[0m\u001b[0;34m\"systolicPeaks\"\u001b[0m\u001b[0;34m)\u001b[0m\u001b[0;34m\u001b[0m\u001b[0;34m\u001b[0m\u001b[0m\n\u001b[0m",
      "\u001b[0;32m~/Code/empkins-io/empkins_io/sensors/empatica/empatica.py\u001b[0m in \u001b[0;36mdata_as_df\u001b[0;34m(self, sensor)\u001b[0m\n\u001b[1;32m     92\u001b[0m         \u001b[0;32melse\u001b[0m\u001b[0;34m:\u001b[0m\u001b[0;34m\u001b[0m\u001b[0;34m\u001b[0m\u001b[0m\n\u001b[1;32m     93\u001b[0m \u001b[0;34m\u001b[0m\u001b[0m\n\u001b[0;32m---> 94\u001b[0;31m             \u001b[0;32mreturn\u001b[0m \u001b[0mself\u001b[0m\u001b[0;34m.\u001b[0m\u001b[0m_data_as_df_folder\u001b[0m\u001b[0;34m(\u001b[0m\u001b[0msensor\u001b[0m\u001b[0;34m)\u001b[0m\u001b[0;34m\u001b[0m\u001b[0;34m\u001b[0m\u001b[0m\n\u001b[0m\u001b[1;32m     95\u001b[0m \u001b[0;34m\u001b[0m\u001b[0m\n\u001b[1;32m     96\u001b[0m     \u001b[0;32mdef\u001b[0m \u001b[0m_data_as_df_folder\u001b[0m\u001b[0;34m(\u001b[0m\u001b[0mself\u001b[0m\u001b[0;34m,\u001b[0m \u001b[0msensor\u001b[0m\u001b[0;34m:\u001b[0m \u001b[0mstr\u001b[0m\u001b[0;34m)\u001b[0m \u001b[0;34m->\u001b[0m \u001b[0mpd\u001b[0m\u001b[0;34m.\u001b[0m\u001b[0mDataFrame\u001b[0m\u001b[0;34m:\u001b[0m\u001b[0;34m\u001b[0m\u001b[0;34m\u001b[0m\u001b[0m\n",
      "\u001b[0;32m~/Code/empkins-io/empkins_io/sensors/empatica/empatica.py\u001b[0m in \u001b[0;36m_data_as_df_folder\u001b[0;34m(self, sensor)\u001b[0m\n\u001b[1;32m    102\u001b[0m \u001b[0;34m\u001b[0m\u001b[0m\n\u001b[1;32m    103\u001b[0m         \u001b[0;31m# get start timestamp of the first file\u001b[0m\u001b[0;34m\u001b[0m\u001b[0;34m\u001b[0m\u001b[0m\n\u001b[0;32m--> 104\u001b[0;31m         start_time_unix = self._raw_data[list(self._raw_data.keys())[0]][\"rawData\"][\n\u001b[0m\u001b[1;32m    105\u001b[0m             \u001b[0msensor\u001b[0m\u001b[0;34m\u001b[0m\u001b[0;34m\u001b[0m\u001b[0m\n\u001b[1;32m    106\u001b[0m         ][\"timestampStart\"]\n",
      "\u001b[0;31mKeyError\u001b[0m: 'timestampStart'"
     ]
    }
   ],
   "source": [
    "empatica_dataset_folder.data_as_df(\"systolicPeaks\")"
   ]
  }
 ],
 "metadata": {
  "kernelspec": {
   "display_name": "empkins_d03_micro_analysis",
   "language": "python",
   "name": "empkins_d03_micro_analysis"
  },
  "language_info": {
   "codemirror_mode": {
    "name": "ipython",
    "version": 3
   },
   "file_extension": ".py",
   "mimetype": "text/x-python",
   "name": "python",
   "nbconvert_exporter": "python",
   "pygments_lexer": "ipython3",
   "version": "3.9.8"
  }
 },
 "nbformat": 4,
 "nbformat_minor": 2
}
