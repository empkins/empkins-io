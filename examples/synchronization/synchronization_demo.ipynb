{
 "cells": [
  {
   "cell_type": "markdown",
   "metadata": {},
   "source": [
    "# Synchronization"
   ]
  },
  {
   "cell_type": "markdown",
   "metadata": {},
   "source": [
    "## Setup and Helper Functions"
   ]
  },
  {
   "cell_type": "code",
   "execution_count": null,
   "metadata": {
    "tags": []
   },
   "outputs": [],
   "source": [
    "from pathlib import Path\n",
    "import pandas as pd\n",
    "\n",
    "from fau_colors import cmaps\n",
    "from biopsykit.io.biopac import BiopacDataset\n",
    "from empkins_io.sync import SyncedDataset\n",
    "\n",
    "import matplotlib.pyplot as plt\n",
    "import seaborn as sns\n",
    "\n",
    "%matplotlib widget\n",
    "%load_ext autoreload\n",
    "%autoreload 2"
   ]
  },
  {
   "cell_type": "code",
   "execution_count": null,
   "metadata": {
    "tags": []
   },
   "outputs": [],
   "source": [
    "plt.close(\"all\")\n",
    "\n",
    "palette = sns.color_palette(cmaps.faculties)\n",
    "sns.set_theme(context=\"notebook\", style=\"ticks\", font=\"sans-serif\", palette=palette)\n",
    "\n",
    "plt.rcParams[\"figure.figsize\"] = (8, 5)\n",
    "plt.rcParams[\"pdf.fonttype\"] = 42\n",
    "plt.rcParams[\"mathtext.default\"] = \"regular\"\n",
    "\n",
    "palette"
   ]
  },
  {
   "cell_type": "code",
   "execution_count": null,
   "metadata": {
    "tags": []
   },
   "outputs": [],
   "source": [
    "data_path = Path(\"data/sync_demo\")\n",
    "nilspod_sync = \"9e02\"\n",
    "nilspod_ecg = \"b0c2\""
   ]
  },
  {
   "cell_type": "markdown",
   "metadata": {},
   "source": [
    "### Helper to load data"
   ]
  },
  {
   "cell_type": "code",
   "execution_count": null,
   "metadata": {
    "jupyter": {
     "outputs_hidden": false
    }
   },
   "outputs": [],
   "source": [
    "from typing import Optional, Tuple\n",
    "\n",
    "from nilspodlib import Dataset, SyncedSession\n",
    "from packaging.version import Version\n",
    "\n",
    "\n",
    "class CustomSyncedSession(SyncedSession):\n",
    "    \"\"\"Custom SyncedSession to handle different firmware versions of the SyncPod.\n",
    "\n",
    "    The SyncPod was using a custom dev version of the NilsPod firmware and needs to be loaded differently.\n",
    "    \"\"\"\n",
    "\n",
    "    @classmethod\n",
    "    def from_file_paths(cls, paths, legacy_support=\"resolve\", force_version=None, tz=\"Europe/Berlin\"):\n",
    "        ds = []\n",
    "        for p in paths:\n",
    "            if \"NilsPodX-9E02\" in p.name:\n",
    "                dataset = Dataset.from_bin_file(\n",
    "                    p, legacy_support=legacy_support, force_version=Version(\"0.17.0\"), tz=tz\n",
    "                )\n",
    "            else:\n",
    "                dataset = Dataset.from_bin_file(p, legacy_support=legacy_support, force_version=force_version, tz=tz)\n",
    "\n",
    "            ds.append(dataset)\n",
    "\n",
    "        return cls(ds)\n",
    "\n",
    "    @classmethod\n",
    "    def from_folder_path(\n",
    "        cls,\n",
    "        base_path,\n",
    "        filter_pattern: Optional[str] = \"NilsPodX-*.bin\",\n",
    "        legacy_support: Optional[str] = \"resolve\",\n",
    "        force_version=None,\n",
    "        tz: Optional[str] = \"Europe/Berlin\",\n",
    "    ):\n",
    "        return cls.from_file_paths(\n",
    "            sorted(base_path.glob(filter_pattern)), legacy_support=legacy_support, force_version=force_version, tz=tz\n",
    "        )\n",
    "\n",
    "\n",
    "def load_nilspod_data(type: str) -> Tuple[pd.Series, pd.Series]:\n",
    "    \"\"\"Load and return synchronization channel and ECG data from NilsPod.\"\"\"\n",
    "    nilspod_path = data_path.joinpath(type)\n",
    "    session = CustomSyncedSession.from_folder_path(nilspod_path)\n",
    "    session = session.align_to_syncregion()\n",
    "    fs = session.ecg[1].sampling_rate_hz\n",
    "    data = session.data_as_df(index=\"local_datetime\", concat_df=True)\n",
    "    # artifact in recording, TODO: rerecord data\n",
    "    if type == \"falling-trigger\":\n",
    "        data = data.loc[:\"2023-11-20 11:07:18.8+01:00\"]\n",
    "    # constant filter delay in ECG sensor\n",
    "    delay = 0.11261\n",
    "    delay_periods = int(-delay/(1/fs))\n",
    "    # see https://www.analog.com/media/en/technical-documentation/data-sheets/max30003.pdf, p. 19 for details\n",
    "    ecg_data = data[nilspod_ecg].shift(periods=delay_periods)[\"ecg\"]\n",
    "    data = pd.concat([data[nilspod_sync][\"analog_1\"], ecg_data], axis=1)\n",
    "    return data, fs\n",
    "\n",
    "\n",
    "def load_biopac_data(type: str) -> Tuple[pd.Series, float]:\n",
    "    \"\"\"Load and return synchronization channel and ECG data from Biopac.\"\"\"\n",
    "    biopac_path = data_path.joinpath(type).joinpath(f\"Sync_Board_Demo_{type}.acq\")\n",
    "    dataset = BiopacDataset.from_acq_file(biopac_path)\n",
    "    data = dataset.data_as_df(index=\"local_datetime\")\n",
    "    if type == \"falling-trigger\":\n",
    "        data = data.loc[:\"2023-11-20 11:07:29+01:00\"]\n",
    "    return data, dataset.sampling_rate_hz_sync"
   ]
  },
  {
   "cell_type": "markdown",
   "metadata": {},
   "source": [
    "## Plotting functions"
   ]
  },
  {
   "cell_type": "code",
   "execution_count": null,
   "metadata": {},
   "outputs": [],
   "source": [
    "def plot_cut_data(synced_dataset, type=\"ecg\"):\n",
    "    _plot_datastreams(synced_dataset.biopac_cut_, synced_dataset.nilspod_cut_, type)\n",
    "\n",
    "\n",
    "def plot_aligned_data(synced_dataset, type=\"ecg\"):\n",
    "    _plot_datastreams(synced_dataset.biopac_aligned_, synced_dataset.nilspod_aligned_, type)\n",
    "\n",
    "\n",
    "def _plot_datastreams(data_biopac, data_nilspod, type):\n",
    "    fig, ax = plt.subplots(figsize=(8, 3))\n",
    "    ax2 = ax.twinx()\n",
    "    if type == \"ecg\":\n",
    "        ax2.plot(data_nilspod.filter(like=type), color=\"g\", label=f\"nilspod {type}\")\n",
    "        ax.plot(data_biopac.filter(like=type), label=f\"biopoac {type}\")\n",
    "        ax2.set_ylim(-5000, 3000)\n",
    "    elif type == \"sync\":\n",
    "        ax2.plot(data_nilspod.filter(like=\"analog_1\"), color=\"g\", label=f\"nilspod {type}\")\n",
    "        ax.plot(data_biopac.filter(like=type), label=f\"biopac {type}\")\n",
    "    else:\n",
    "        raise ValueError(\"Unknown type!\")\n",
    " \n",
    "    fig.legend()\n",
    "    fig.tight_layout()"
   ]
  },
  {
   "cell_type": "markdown",
   "metadata": {},
   "source": [
    "## Trigger Synchronization"
   ]
  },
  {
   "cell_type": "markdown",
   "metadata": {},
   "source": [
    "### Load data\n",
    "Use custom method that is normally used to load your measurement data as `pandas.DataFrame`. Note that the sampling frequency of the sync channels is also required for the alignment."
   ]
  },
  {
   "cell_type": "code",
   "execution_count": null,
   "metadata": {
    "jupyter": {
     "outputs_hidden": false
    }
   },
   "outputs": [],
   "source": [
    "np_data, np_fs = load_nilspod_data(\"falling-trigger\")\n",
    "bp_data, bp_fs = load_biopac_data(\"falling-trigger\")"
   ]
  },
  {
   "cell_type": "code",
   "execution_count": null,
   "metadata": {},
   "outputs": [],
   "source": [
    "np_data"
   ]
  },
  {
   "cell_type": "markdown",
   "metadata": {},
   "source": [
    "### Perform alignment\n",
    "Create an instance of the `SyncedDataset` class provided by us and specify the sync signal type, as in this case, `falling-trigger`.\n",
    "Add all your previously loaded datasets to the class and specify the name of the device, the column name of the synchronization channel, as well as the sampling rate of the device."
   ]
  },
  {
   "cell_type": "code",
   "execution_count": null,
   "metadata": {
    "tags": []
   },
   "outputs": [],
   "source": [
    "synced_dataset = SyncedDataset(sync_type=\"falling-trigger\")\n",
    "synced_dataset.add_dataset(\"nilspod\", np_data, sync_channel_name=\"analog_1\", sampling_rate=np_fs)\n",
    "synced_dataset.add_dataset(\"biopac\", bp_data, sync_channel_name=\"sync\", sampling_rate=bp_fs)"
   ]
  },
  {
   "cell_type": "markdown",
   "metadata": {},
   "source": [
    "Using the `plot_sync_channels` function, the data can be visualized before the alignment. As we can see in this example, there is an offset of around 10s between the timestamps of the individual devices that has to be corrected."
   ]
  },
  {
   "cell_type": "code",
   "execution_count": null,
   "metadata": {
    "tags": []
   },
   "outputs": [],
   "source": [
    "fig, axs = synced_dataset.plot_sync_channels(figsize=(8, 3))\n",
    "fig.tight_layout()"
   ]
  },
  {
   "cell_type": "markdown",
   "metadata": {},
   "source": [
    "Afterwards, the data is cut to the region of interest where a sync signal was present with a call of `cut_to_sync_region`. In the trigger signal case, this will be the region from the trigger time to the end of the recording. The result of this operation is stored as separate property for each of your devices as `<name_of_device>_cut_`."
   ]
  },
  {
   "cell_type": "code",
   "execution_count": null,
   "metadata": {
    "tags": []
   },
   "outputs": [],
   "source": [
    "synced_dataset.cut_to_sync_region()\n",
    "synced_dataset.nilspod_cut_.head()"
   ]
  },
  {
   "cell_type": "markdown",
   "metadata": {},
   "source": [
    "As last step, the alignment of the data to the timestamps of a reference is performed. To do so, the `align_datasets` function is called while specifying the name of the device whose timestamps should be used as reference for all other recordings. With `cut_to_shortest` set to `True`, both recordings are cut to the same length, otherwise, they won't be modified in length. The result of this operation and thus the final outcome of the postprocessing is stored as separate property for each of your devices as `<name_of_device>_aligned_`. This aligned data can then be used for the desired application."
   ]
  },
  {
   "cell_type": "code",
   "execution_count": null,
   "metadata": {},
   "outputs": [],
   "source": [
    "synced_dataset.align_datasets(\"biopac\", cut_to_shortest=True)\n",
    "synced_dataset.nilspod_aligned_.head()"
   ]
  },
  {
   "cell_type": "code",
   "execution_count": null,
   "metadata": {
    "tags": []
   },
   "outputs": [],
   "source": [
    "plot_cut_data(synced_dataset, type=\"ecg\")"
   ]
  },
  {
   "cell_type": "code",
   "execution_count": null,
   "metadata": {},
   "outputs": [],
   "source": [
    "plot_aligned_data(synced_dataset, type=\"sync\")"
   ]
  },
  {
   "cell_type": "code",
   "execution_count": null,
   "metadata": {},
   "outputs": [],
   "source": [
    "plot_aligned_data(synced_dataset, type=\"ecg\")"
   ]
  },
  {
   "cell_type": "markdown",
   "metadata": {},
   "source": [
    "## Edge Synchronization"
   ]
  },
  {
   "cell_type": "markdown",
   "metadata": {},
   "source": [
    "### Load data\n",
    "Use custom method that is normally used to load your measurement data as `pandas.DataFrame`. Note that the sampling frequency of the sync channels is also required for the alignment."
   ]
  },
  {
   "cell_type": "code",
   "execution_count": null,
   "metadata": {
    "jupyter": {
     "outputs_hidden": false
    }
   },
   "outputs": [],
   "source": [
    "np_data, np_fs = load_nilspod_data(\"falling-edge\")\n",
    "bp_data, bp_fs = load_biopac_data(\"falling-edge\")"
   ]
  },
  {
   "cell_type": "markdown",
   "metadata": {},
   "source": [
    "### Perform alignment\n",
    "Create an instance of the `SyncedDataset` class provided by us and specify the sync signal type, as in this case, `falling-edge`.\n",
    "Add all your previously loaded datasets to the class and specify the name of the device, the column name of the synchronization channel, as well as the sampling rate of the device."
   ]
  },
  {
   "cell_type": "code",
   "execution_count": null,
   "metadata": {
    "tags": []
   },
   "outputs": [],
   "source": [
    "synced_dataset = SyncedDataset(sync_type=\"falling-edge\")\n",
    "synced_dataset.add_dataset(\"nilspod\", np_data, sync_channel_name=\"analog_1\", sampling_rate=np_fs)\n",
    "synced_dataset.add_dataset(\"biopac\", bp_data, sync_channel_name=\"sync\", sampling_rate=bp_fs)"
   ]
  },
  {
   "cell_type": "markdown",
   "metadata": {},
   "source": [
    "Using the `plot_sync_channels` function, the data can be visualized before the alignment. As we can see in this example, there is an offset of around 10s between the timestamps of the individual devices that has to be corrected."
   ]
  },
  {
   "cell_type": "code",
   "execution_count": null,
   "metadata": {
    "tags": []
   },
   "outputs": [],
   "source": [
    "fig, axs = synced_dataset.plot_sync_channels(figsize=(8, 3))\n",
    "fig.tight_layout()"
   ]
  },
  {
   "cell_type": "markdown",
   "metadata": {},
   "source": [
    "Afterwards, the data is cut to the region of interest where a sync signal was present with a call of `cut_to_sync_region`. The result of this operation is stored as separate property for each of your devices as `<name_of_device>_cut_`."
   ]
  },
  {
   "cell_type": "code",
   "execution_count": null,
   "metadata": {
    "tags": []
   },
   "outputs": [],
   "source": [
    "synced_dataset.cut_to_sync_region()\n",
    "synced_dataset.nilspod_cut_.head()"
   ]
  },
  {
   "cell_type": "markdown",
   "metadata": {},
   "source": [
    "As last step, the alignment of the data to the timestamps of a reference is performed. To do so, the `align_datasets` function is called while specifying the name of the device whose timestamps should be used as reference for all other recordings. The result of this operation and thus the final outcome of the postprocessing is stored as separate property for each of your devices as `<name_of_device>_aligned_`. This aligned data can then be used for the desired application."
   ]
  },
  {
   "cell_type": "code",
   "execution_count": null,
   "metadata": {},
   "outputs": [],
   "source": [
    "synced_dataset.align_datasets(\"biopac\")\n",
    "synced_dataset.nilspod_aligned_.head()"
   ]
  },
  {
   "cell_type": "code",
   "execution_count": null,
   "metadata": {
    "tags": []
   },
   "outputs": [],
   "source": [
    "plot_cut_data(synced_dataset, type=\"ecg\")"
   ]
  },
  {
   "cell_type": "code",
   "execution_count": null,
   "metadata": {},
   "outputs": [],
   "source": [
    "plot_aligned_data(synced_dataset, type=\"sync\")"
   ]
  },
  {
   "cell_type": "code",
   "execution_count": null,
   "metadata": {},
   "outputs": [],
   "source": [
    "plot_aligned_data(synced_dataset, type=\"ecg\")"
   ]
  },
  {
   "cell_type": "markdown",
   "metadata": {},
   "source": [
    "## Clock Synchronization"
   ]
  },
  {
   "cell_type": "markdown",
   "metadata": {},
   "source": [
    "### Load data\n",
    "Use custom method that is normally used to load your measurement data as `pandas.DataFrame`. Note that the sampling frequency of the sync channels is also required for the alignment."
   ]
  },
  {
   "cell_type": "code",
   "execution_count": null,
   "metadata": {
    "jupyter": {
     "outputs_hidden": false
    }
   },
   "outputs": [],
   "source": [
    "np_data, np_fs = load_nilspod_data(\"falling-clock\")\n",
    "bp_data, bp_fs = load_biopac_data(\"falling-clock\")"
   ]
  },
  {
   "cell_type": "markdown",
   "metadata": {},
   "source": [
    "### Perform alignment\n",
    "Create an instance of the `SyncedDataset` class provided by us and specify the sync signal type, as in this case, `falling-clock`.\n",
    "Add all your previously loaded datasets to the class and specify the name of the device, the column name of the synchronization channel, as well as the sampling rate of the device."
   ]
  },
  {
   "cell_type": "code",
   "execution_count": null,
   "metadata": {
    "tags": []
   },
   "outputs": [],
   "source": [
    "synced_dataset = SyncedDataset(sync_type=\"falling-clock\")\n",
    "synced_dataset.add_dataset(\"nilspod\", np_data, sync_channel_name=\"analog_1\", sampling_rate=np_fs)\n",
    "synced_dataset.add_dataset(\"biopac\", bp_data, sync_channel_name=\"sync\", sampling_rate=bp_fs)"
   ]
  },
  {
   "cell_type": "markdown",
   "metadata": {},
   "source": [
    "Using the `plot_sync_channels` function, the data can be visualized before the alignment. As we can see in this example, there is an offset of around 10s between the timestamps of the individual devices that has to be corrected."
   ]
  },
  {
   "cell_type": "code",
   "execution_count": null,
   "metadata": {
    "tags": []
   },
   "outputs": [],
   "source": [
    "fig, axs = synced_dataset.plot_sync_channels(figsize=(8, 3))\n",
    "fig.tight_layout()"
   ]
  },
  {
   "cell_type": "markdown",
   "metadata": {},
   "source": [
    "Afterwards, the data is cut to the region of interest where a sync signal was present with a call of `cut_to_sync_region`. For clock signals, the frequency of the clock signal (in Hz) is specified as additional parameter `\"wave_frequency\"`. The result of this operation is stored as separate property for each of your devices as `<name_of_device>_cut_`."
   ]
  },
  {
   "cell_type": "code",
   "execution_count": null,
   "metadata": {
    "tags": []
   },
   "outputs": [],
   "source": [
    "synced_dataset.cut_to_sync_region(sync_params={\"wave_frequency\": 50})\n",
    "synced_dataset.nilspod_cut_"
   ]
  },
  {
   "cell_type": "markdown",
   "metadata": {},
   "source": [
    "As last step, the alignment of the data to the timestamps of a reference is performed. To do so, the `align_datasets` function is called while specifying the name of the device whose timestamps should be used as reference for all other recordings. The result of this operation and thus the final outcome of the postprocessing is stored as separate property for each of your devices as `<name_of_device>_aligned_`. This aligned data can then be used for the desired application."
   ]
  },
  {
   "cell_type": "code",
   "execution_count": null,
   "metadata": {},
   "outputs": [],
   "source": [
    "synced_dataset.align_datasets(\"biopac\", cut_to_shortest=False)\n",
    "synced_dataset.nilspod_aligned_"
   ]
  },
  {
   "cell_type": "code",
   "execution_count": null,
   "metadata": {
    "tags": []
   },
   "outputs": [],
   "source": [
    "plot_cut_data(synced_dataset, type=\"ecg\")"
   ]
  },
  {
   "cell_type": "code",
   "execution_count": null,
   "metadata": {},
   "outputs": [],
   "source": [
    "plot_aligned_data(synced_dataset, type=\"sync\")"
   ]
  },
  {
   "cell_type": "code",
   "execution_count": null,
   "metadata": {},
   "outputs": [],
   "source": [
    "plot_aligned_data(synced_dataset, type=\"ecg\")"
   ]
  },
  {
   "cell_type": "markdown",
   "metadata": {},
   "source": [
    "## M-Sequence Synchronization"
   ]
  },
  {
   "cell_type": "markdown",
   "metadata": {},
   "source": [
    "### Load data\n",
    "Use custom method that is normally used to load your measurement data as `pandas.DataFrame`. Note that the sampling frequency of the sync channels is also required for the alignment."
   ]
  },
  {
   "cell_type": "code",
   "execution_count": null,
   "metadata": {
    "jupyter": {
     "outputs_hidden": false
    }
   },
   "outputs": [],
   "source": [
    "np_data, np_fs = load_nilspod_data(\"m-sequence\")\n",
    "bp_data, bp_fs = load_biopac_data(\"m-sequence\")"
   ]
  },
  {
   "cell_type": "markdown",
   "metadata": {},
   "source": [
    "### Perform alignment\n",
    "Create an instance of the `SyncedDataset` class provided by us and specify the sync signal type, as in this case, `m-sequence`.\n",
    "Add all your previously loaded datasets to the class and specify the name of the device, the column name of the synchronization channel, as well as the sampling rate of the device."
   ]
  },
  {
   "cell_type": "code",
   "execution_count": null,
   "metadata": {
    "tags": []
   },
   "outputs": [],
   "source": [
    "synced_dataset = SyncedDataset(sync_type=\"m-sequence\")\n",
    "synced_dataset.add_dataset(\"nilspod\", np_data, sync_channel_name=\"analog_1\", sampling_rate=np_fs)\n",
    "synced_dataset.add_dataset(\"biopac\", bp_data, sync_channel_name=\"sync\", sampling_rate=bp_fs)"
   ]
  },
  {
   "cell_type": "markdown",
   "metadata": {},
   "source": [
    "Using the `plot_sync_channels` function, the data can be visualized before the alignment. As we can see in this example, there is an offset of around 10s between the timestamps of the individual devices that has to be corrected."
   ]
  },
  {
   "cell_type": "code",
   "execution_count": null,
   "metadata": {
    "tags": []
   },
   "outputs": [],
   "source": [
    "fig, axs = synced_dataset.plot_sync_channels(figsize=(8, 3))\n",
    "fig.tight_layout()"
   ]
  },
  {
   "cell_type": "markdown",
   "metadata": {},
   "source": [
    "As for M-Sequence synchronization, the alignment is done based on the cross correlation of synchronization channels, the procedure slightly differs from the other utilized signals. If you are dealing with another signal, have a look at the trigger, edge, or clock example instead.\n",
    "\n",
    "In the first step, all recordings need to be resampled to the same sampling frequency to make them comparable. For this purpose, the `resample_datasets` function is applied. To dynamically calculate the sampling frequency of a device (`method=\"dynamic\"`), the frequency of the M-Sequence (in Hz) needs to be specified as additional parameter `wave_frequency`. Otherwise, the specified sampling frequencies from each devices can be used. In this case, the `method` is set to `\"static\"`. The result of this operation is stored as separate property for each of your devices as `<name_of_device>_resampled_`."
   ]
  },
  {
   "cell_type": "code",
   "execution_count": null,
   "metadata": {},
   "outputs": [],
   "source": [
    "synced_dataset.resample_datasets(np_fs, method=\"static\", wave_frequency=50)\n",
    "synced_dataset.nilspod_resampled_"
   ]
  },
  {
   "cell_type": "markdown",
   "metadata": {},
   "source": [
    "Afterwards, the data is aligned and cut to the region of interest where the sync signal was present with a call of `align_and_cut_to_m_sequence`. The device specified as `primary` is used as reference for all other recordings. The result of this operation and thus the final outcome of the postprocessing is stored as separate property for each of your devices as `<name_of_device>_aligned_`. This aligned data can then be used for the desired application."
   ]
  },
  {
   "cell_type": "code",
   "execution_count": null,
   "metadata": {
    "tags": []
   },
   "outputs": [],
   "source": [
    "synced_dataset.align_and_cut_m_sequence(primary=\"biopac\", cut_to_shortest=True, reset_time_axis=True)\n",
    "synced_dataset.nilspod_aligned_"
   ]
  },
  {
   "cell_type": "code",
   "execution_count": null,
   "metadata": {},
   "outputs": [],
   "source": [
    "plot_aligned_data(synced_dataset, type=\"sync\")"
   ]
  },
  {
   "cell_type": "code",
   "execution_count": null,
   "metadata": {},
   "outputs": [],
   "source": [
    "plot_aligned_data(synced_dataset, type=\"ecg\")"
   ]
  },
  {
   "cell_type": "code",
   "execution_count": null,
   "metadata": {},
   "outputs": [],
   "source": []
  }
 ],
 "metadata": {
  "jupytext": {
   "encoding": "# -*- coding: utf-8 -*-",
   "text_representation": {
    "extension": ".py",
    "format_name": "sphinx",
    "format_version": "1.1",
    "jupytext_version": "1.13.0"
   }
  },
  "kernelspec": {
   "display_name": "empkins-io",
   "language": "python",
   "name": "empkins-io"
  },
  "language_info": {
   "codemirror_mode": {
    "name": "ipython",
    "version": 3
   },
   "file_extension": ".py",
   "mimetype": "text/x-python",
   "name": "python",
   "nbconvert_exporter": "python",
   "pygments_lexer": "ipython3",
   "version": "3.9.9"
  },
  "toc-showtags": false
 },
 "nbformat": 4,
 "nbformat_minor": 4
}
