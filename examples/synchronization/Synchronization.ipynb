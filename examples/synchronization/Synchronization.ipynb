{
 "cells": [
  {
   "attachments": {},
   "cell_type": "markdown",
   "metadata": {},
   "source": [
    "# Synchronization"
   ]
  },
  {
   "attachments": {},
   "cell_type": "markdown",
   "metadata": {},
   "source": [
    "## Setup and Helper Functions"
   ]
  },
  {
   "cell_type": "code",
   "execution_count": 1,
   "metadata": {},
   "outputs": [],
   "source": [
    "from pathlib import Path\n",
    "\n",
    "import matplotlib.pyplot as plt\n",
    "import seaborn as sns\n",
    "from biopsykit.io.biopac import BiopacDataset\n",
    "from fau_colors import cmaps\n",
    "from nilspodlib import Dataset\n",
    "from packaging.version import Version\n",
    "\n",
    "from src.empkins_io import EmradDataset\n",
    "from src.empkins_io.sync import SyncedDataset\n",
    "\n",
    "%matplotlib widget\n",
    "%load_ext autoreload\n",
    "%autoreload 2"
   ]
  },
  {
   "cell_type": "code",
   "execution_count": 2,
   "metadata": {},
   "outputs": [
    {
     "data": {
      "text/html": [
       "<svg  width=\"330\" height=\"55\"><rect x=\"0\" y=\"0\" width=\"55\" height=\"55\" style=\"fill:#002f6c;stroke-width:2;stroke:rgb(255,255,255)\"/><rect x=\"55\" y=\"0\" width=\"55\" height=\"55\" style=\"fill:#779fb5;stroke-width:2;stroke:rgb(255,255,255)\"/><rect x=\"110\" y=\"0\" width=\"55\" height=\"55\" style=\"fill:#ffb81c;stroke-width:2;stroke:rgb(255,255,255)\"/><rect x=\"165\" y=\"0\" width=\"55\" height=\"55\" style=\"fill:#00a3e0;stroke-width:2;stroke:rgb(255,255,255)\"/><rect x=\"220\" y=\"0\" width=\"55\" height=\"55\" style=\"fill:#43b02a;stroke-width:2;stroke:rgb(255,255,255)\"/><rect x=\"275\" y=\"0\" width=\"55\" height=\"55\" style=\"fill:#c8102e;stroke-width:2;stroke:rgb(255,255,255)\"/></svg>"
      ],
      "text/plain": [
       "[(0.0, 0.1843137254901961, 0.4235294117647059),\n",
       " (0.4666666666666667, 0.6235294117647059, 0.7098039215686275),\n",
       " (1.0, 0.7215686274509804, 0.10980392156862745),\n",
       " (0.0, 0.6392156862745098, 0.8784313725490196),\n",
       " (0.2627450980392157, 0.6901960784313725, 0.16470588235294117),\n",
       " (0.7843137254901961, 0.06274509803921569, 0.1803921568627451)]"
      ]
     },
     "execution_count": 2,
     "metadata": {},
     "output_type": "execute_result"
    }
   ],
   "source": [
    "plt.close(\"all\")\n",
    "\n",
    "palette = sns.color_palette(cmaps.faculties)\n",
    "sns.set_theme(context=\"notebook\", style=\"ticks\", font=\"sans-serif\", palette=palette)\n",
    "\n",
    "plt.rcParams[\"figure.figsize\"] = (8, 5)\n",
    "plt.rcParams[\"pdf.fonttype\"] = 42\n",
    "plt.rcParams[\"mathtext.default\"] = \"regular\"\n",
    "\n",
    "palette"
   ]
  },
  {
   "cell_type": "code",
   "execution_count": 10,
   "metadata": {},
   "outputs": [],
   "source": [
    "data_path = Path(\"data\")\n",
    "\n",
    "radar_path = data_path.joinpath(\"data_sync-test-01.h5\")\n",
    "biopac_path = data_path.joinpath(\"data_sync-test-02.acq\")\n",
    "nilspod_path = sorted(data_path.glob(\"*.bin\"))[0]"
   ]
  },
  {
   "attachments": {},
   "cell_type": "markdown",
   "metadata": {},
   "source": [
    "## Load Data"
   ]
  },
  {
   "attachments": {},
   "cell_type": "markdown",
   "metadata": {},
   "source": [
    "### Radar"
   ]
  },
  {
   "cell_type": "code",
   "execution_count": 7,
   "metadata": {},
   "outputs": [
    {
     "data": {
      "text/html": [
       "<div>\n",
       "<style scoped>\n",
       "    .dataframe tbody tr th:only-of-type {\n",
       "        vertical-align: middle;\n",
       "    }\n",
       "\n",
       "    .dataframe tbody tr th {\n",
       "        vertical-align: top;\n",
       "    }\n",
       "\n",
       "    .dataframe thead th {\n",
       "        text-align: right;\n",
       "    }\n",
       "</style>\n",
       "<table border=\"1\" class=\"dataframe\">\n",
       "  <thead>\n",
       "    <tr style=\"text-align: right;\">\n",
       "      <th>channel</th>\n",
       "      <th>I</th>\n",
       "      <th>Q</th>\n",
       "      <th>Sync_In</th>\n",
       "      <th>Sync_Out</th>\n",
       "    </tr>\n",
       "    <tr>\n",
       "      <th>date (Europe/Berlin)</th>\n",
       "      <th></th>\n",
       "      <th></th>\n",
       "      <th></th>\n",
       "      <th></th>\n",
       "    </tr>\n",
       "  </thead>\n",
       "  <tbody>\n",
       "    <tr>\n",
       "      <th>2022-11-23 09:25:08+01:00</th>\n",
       "      <td>2130847</td>\n",
       "      <td>-3021788</td>\n",
       "      <td>0</td>\n",
       "      <td>1</td>\n",
       "    </tr>\n",
       "    <tr>\n",
       "      <th>2022-11-23 09:25:08.000512+01:00</th>\n",
       "      <td>2130972</td>\n",
       "      <td>-3022018</td>\n",
       "      <td>0</td>\n",
       "      <td>1</td>\n",
       "    </tr>\n",
       "    <tr>\n",
       "      <th>2022-11-23 09:25:08.001024+01:00</th>\n",
       "      <td>2130612</td>\n",
       "      <td>-3021858</td>\n",
       "      <td>0</td>\n",
       "      <td>1</td>\n",
       "    </tr>\n",
       "    <tr>\n",
       "      <th>2022-11-23 09:25:08.001536+01:00</th>\n",
       "      <td>2130588</td>\n",
       "      <td>-3021996</td>\n",
       "      <td>0</td>\n",
       "      <td>1</td>\n",
       "    </tr>\n",
       "    <tr>\n",
       "      <th>2022-11-23 09:25:08.002048+01:00</th>\n",
       "      <td>2130623</td>\n",
       "      <td>-3021736</td>\n",
       "      <td>0</td>\n",
       "      <td>1</td>\n",
       "    </tr>\n",
       "  </tbody>\n",
       "</table>\n",
       "</div>"
      ],
      "text/plain": [
       "channel                                 I        Q  Sync_In  Sync_Out\n",
       "date (Europe/Berlin)                                                 \n",
       "2022-11-23 09:25:08+01:00         2130847 -3021788        0         1\n",
       "2022-11-23 09:25:08.000512+01:00  2130972 -3022018        0         1\n",
       "2022-11-23 09:25:08.001024+01:00  2130612 -3021858        0         1\n",
       "2022-11-23 09:25:08.001536+01:00  2130588 -3021996        0         1\n",
       "2022-11-23 09:25:08.002048+01:00  2130623 -3021736        0         1"
      ]
     },
     "execution_count": 7,
     "metadata": {},
     "output_type": "execute_result"
    }
   ],
   "source": [
    "dataset_radar = EmradDataset.from_hd5_file(radar_path)\n",
    "data_radar = dataset_radar.data_as_df(index=\"local_datetime\", add_sync_in=True, add_sync_out=True)\n",
    "data_radar = data_radar.xs(\"rad1\", axis=1)\n",
    "\n",
    "data_radar.head()"
   ]
  },
  {
   "attachments": {},
   "cell_type": "markdown",
   "metadata": {},
   "source": [
    "### NilsPod"
   ]
  },
  {
   "cell_type": "code",
   "execution_count": 8,
   "metadata": {},
   "outputs": [
    {
     "data": {
      "text/html": [
       "<div>\n",
       "<style scoped>\n",
       "    .dataframe tbody tr th:only-of-type {\n",
       "        vertical-align: middle;\n",
       "    }\n",
       "\n",
       "    .dataframe tbody tr th {\n",
       "        vertical-align: top;\n",
       "    }\n",
       "\n",
       "    .dataframe thead th {\n",
       "        text-align: right;\n",
       "    }\n",
       "</style>\n",
       "<table border=\"1\" class=\"dataframe\">\n",
       "  <thead>\n",
       "    <tr style=\"text-align: right;\">\n",
       "      <th></th>\n",
       "      <th>gyr_x</th>\n",
       "      <th>gyr_y</th>\n",
       "      <th>gyr_z</th>\n",
       "      <th>acc_x</th>\n",
       "      <th>acc_y</th>\n",
       "      <th>acc_z</th>\n",
       "      <th>analog_0</th>\n",
       "      <th>analog_1</th>\n",
       "      <th>analog_2</th>\n",
       "    </tr>\n",
       "    <tr>\n",
       "      <th>date (Europe/Berlin)</th>\n",
       "      <th></th>\n",
       "      <th></th>\n",
       "      <th></th>\n",
       "      <th></th>\n",
       "      <th></th>\n",
       "      <th></th>\n",
       "      <th></th>\n",
       "      <th></th>\n",
       "      <th></th>\n",
       "    </tr>\n",
       "  </thead>\n",
       "  <tbody>\n",
       "    <tr>\n",
       "      <th>2022-11-23 09:28:01.003906+01:00</th>\n",
       "      <td>0.366211</td>\n",
       "      <td>-0.610352</td>\n",
       "      <td>0.061035</td>\n",
       "      <td>0.095801</td>\n",
       "      <td>-0.100591</td>\n",
       "      <td>10.217153</td>\n",
       "      <td>83.0</td>\n",
       "      <td>8.0</td>\n",
       "      <td>25.0</td>\n",
       "    </tr>\n",
       "    <tr>\n",
       "      <th>2022-11-23 09:28:01.007812+01:00</th>\n",
       "      <td>0.366211</td>\n",
       "      <td>-0.671387</td>\n",
       "      <td>0.183105</td>\n",
       "      <td>0.114961</td>\n",
       "      <td>-0.100591</td>\n",
       "      <td>10.255474</td>\n",
       "      <td>109.0</td>\n",
       "      <td>9.0</td>\n",
       "      <td>21.0</td>\n",
       "    </tr>\n",
       "    <tr>\n",
       "      <th>2022-11-23 09:28:01.011718+01:00</th>\n",
       "      <td>0.427246</td>\n",
       "      <td>-0.671387</td>\n",
       "      <td>0.061035</td>\n",
       "      <td>0.158071</td>\n",
       "      <td>-0.114961</td>\n",
       "      <td>10.245894</td>\n",
       "      <td>128.0</td>\n",
       "      <td>8.0</td>\n",
       "      <td>19.0</td>\n",
       "    </tr>\n",
       "    <tr>\n",
       "      <th>2022-11-23 09:28:01.015625+01:00</th>\n",
       "      <td>0.488281</td>\n",
       "      <td>-0.671387</td>\n",
       "      <td>0.061035</td>\n",
       "      <td>0.129331</td>\n",
       "      <td>-0.138911</td>\n",
       "      <td>10.226733</td>\n",
       "      <td>142.0</td>\n",
       "      <td>9.0</td>\n",
       "      <td>17.0</td>\n",
       "    </tr>\n",
       "    <tr>\n",
       "      <th>2022-11-23 09:28:01.019531+01:00</th>\n",
       "      <td>0.427246</td>\n",
       "      <td>-0.610352</td>\n",
       "      <td>0.061035</td>\n",
       "      <td>0.086221</td>\n",
       "      <td>-0.148491</td>\n",
       "      <td>10.241104</td>\n",
       "      <td>151.0</td>\n",
       "      <td>7.0</td>\n",
       "      <td>16.0</td>\n",
       "    </tr>\n",
       "  </tbody>\n",
       "</table>\n",
       "</div>"
      ],
      "text/plain": [
       "                                     gyr_x     gyr_y     gyr_z     acc_x  \\\n",
       "date (Europe/Berlin)                                                       \n",
       "2022-11-23 09:28:01.003906+01:00  0.366211 -0.610352  0.061035  0.095801   \n",
       "2022-11-23 09:28:01.007812+01:00  0.366211 -0.671387  0.183105  0.114961   \n",
       "2022-11-23 09:28:01.011718+01:00  0.427246 -0.671387  0.061035  0.158071   \n",
       "2022-11-23 09:28:01.015625+01:00  0.488281 -0.671387  0.061035  0.129331   \n",
       "2022-11-23 09:28:01.019531+01:00  0.427246 -0.610352  0.061035  0.086221   \n",
       "\n",
       "                                     acc_y      acc_z  analog_0  analog_1  \\\n",
       "date (Europe/Berlin)                                                        \n",
       "2022-11-23 09:28:01.003906+01:00 -0.100591  10.217153      83.0       8.0   \n",
       "2022-11-23 09:28:01.007812+01:00 -0.100591  10.255474     109.0       9.0   \n",
       "2022-11-23 09:28:01.011718+01:00 -0.114961  10.245894     128.0       8.0   \n",
       "2022-11-23 09:28:01.015625+01:00 -0.138911  10.226733     142.0       9.0   \n",
       "2022-11-23 09:28:01.019531+01:00 -0.148491  10.241104     151.0       7.0   \n",
       "\n",
       "                                  analog_2  \n",
       "date (Europe/Berlin)                        \n",
       "2022-11-23 09:28:01.003906+01:00      25.0  \n",
       "2022-11-23 09:28:01.007812+01:00      21.0  \n",
       "2022-11-23 09:28:01.011718+01:00      19.0  \n",
       "2022-11-23 09:28:01.015625+01:00      17.0  \n",
       "2022-11-23 09:28:01.019531+01:00      16.0  "
      ]
     },
     "execution_count": 8,
     "metadata": {},
     "output_type": "execute_result"
    }
   ],
   "source": [
    "dataset_nilspod = Dataset.from_bin_file(\n",
    "    nilspod_path, legacy_support=\"resolve\", force_version=Version(\"0.17.0\"), tz=\"Europe/Berlin\"\n",
    ")\n",
    "data_nilspod = dataset_nilspod.data_as_df(index=\"local_datetime\")\n",
    "data_nilspod.head()"
   ]
  },
  {
   "attachments": {},
   "cell_type": "markdown",
   "metadata": {},
   "source": [
    "### Biopac"
   ]
  },
  {
   "cell_type": "code",
   "execution_count": 11,
   "metadata": {
    "tags": []
   },
   "outputs": [
    {
     "data": {
      "text/html": [
       "<div>\n",
       "<style scoped>\n",
       "    .dataframe tbody tr th:only-of-type {\n",
       "        vertical-align: middle;\n",
       "    }\n",
       "\n",
       "    .dataframe tbody tr th {\n",
       "        vertical-align: top;\n",
       "    }\n",
       "\n",
       "    .dataframe thead th {\n",
       "        text-align: right;\n",
       "    }\n",
       "</style>\n",
       "<table border=\"1\" class=\"dataframe\">\n",
       "  <thead>\n",
       "    <tr style=\"text-align: right;\">\n",
       "      <th></th>\n",
       "      <th>ecg</th>\n",
       "      <th>rsp</th>\n",
       "      <th>icg_mag</th>\n",
       "      <th>sync</th>\n",
       "      <th>icg_der</th>\n",
       "    </tr>\n",
       "    <tr>\n",
       "      <th>date (Europe/Berlin)</th>\n",
       "      <th></th>\n",
       "      <th></th>\n",
       "      <th></th>\n",
       "      <th></th>\n",
       "      <th></th>\n",
       "    </tr>\n",
       "  </thead>\n",
       "  <tbody>\n",
       "    <tr>\n",
       "      <th>2022-11-23 09:28:06.714000+01:00</th>\n",
       "      <td>-4.780579</td>\n",
       "      <td>-10.000000</td>\n",
       "      <td>49.998474</td>\n",
       "      <td>0.215607</td>\n",
       "      <td>0.834961</td>\n",
       "    </tr>\n",
       "    <tr>\n",
       "      <th>2022-11-23 09:28:06.715000037+01:00</th>\n",
       "      <td>-8.030090</td>\n",
       "      <td>-10.000000</td>\n",
       "      <td>49.998474</td>\n",
       "      <td>0.215607</td>\n",
       "      <td>10.377808</td>\n",
       "    </tr>\n",
       "    <tr>\n",
       "      <th>2022-11-23 09:28:06.716000074+01:00</th>\n",
       "      <td>-7.139893</td>\n",
       "      <td>-9.887695</td>\n",
       "      <td>49.998474</td>\n",
       "      <td>0.215759</td>\n",
       "      <td>10.037231</td>\n",
       "    </tr>\n",
       "    <tr>\n",
       "      <th>2022-11-23 09:28:06.717000111+01:00</th>\n",
       "      <td>-7.467346</td>\n",
       "      <td>-10.000000</td>\n",
       "      <td>49.998474</td>\n",
       "      <td>0.215912</td>\n",
       "      <td>-2.031250</td>\n",
       "    </tr>\n",
       "    <tr>\n",
       "      <th>2022-11-23 09:28:06.718000147+01:00</th>\n",
       "      <td>-7.460327</td>\n",
       "      <td>-10.000000</td>\n",
       "      <td>49.998474</td>\n",
       "      <td>0.215912</td>\n",
       "      <td>-19.879150</td>\n",
       "    </tr>\n",
       "  </tbody>\n",
       "</table>\n",
       "</div>"
      ],
      "text/plain": [
       "                                          ecg        rsp    icg_mag      sync  \\\n",
       "date (Europe/Berlin)                                                            \n",
       "2022-11-23 09:28:06.714000+01:00    -4.780579 -10.000000  49.998474  0.215607   \n",
       "2022-11-23 09:28:06.715000037+01:00 -8.030090 -10.000000  49.998474  0.215607   \n",
       "2022-11-23 09:28:06.716000074+01:00 -7.139893  -9.887695  49.998474  0.215759   \n",
       "2022-11-23 09:28:06.717000111+01:00 -7.467346 -10.000000  49.998474  0.215912   \n",
       "2022-11-23 09:28:06.718000147+01:00 -7.460327 -10.000000  49.998474  0.215912   \n",
       "\n",
       "                                       icg_der  \n",
       "date (Europe/Berlin)                            \n",
       "2022-11-23 09:28:06.714000+01:00      0.834961  \n",
       "2022-11-23 09:28:06.715000037+01:00  10.377808  \n",
       "2022-11-23 09:28:06.716000074+01:00  10.037231  \n",
       "2022-11-23 09:28:06.717000111+01:00  -2.031250  \n",
       "2022-11-23 09:28:06.718000147+01:00 -19.879150  "
      ]
     },
     "execution_count": 11,
     "metadata": {},
     "output_type": "execute_result"
    }
   ],
   "source": [
    "dataset_biopac = BiopacDataset.from_acq_file(biopac_path)\n",
    "data_biopac = dataset_biopac.data_as_df(index=\"local_datetime\")\n",
    "\n",
    "data_biopac.head()"
   ]
  },
  {
   "cell_type": "code",
   "execution_count": null,
   "metadata": {
    "tags": []
   },
   "outputs": [],
   "source": [
    "synced_dataset = SyncedDataset(sync_type=\"peak\")\n",
    "\n",
    "synced_dataset.add_dataset(\n",
    "    \"nilspod\", data_nilspod, sync_channel_name=\"analog_1\", sampling_rate=dataset_nilspod.info.sampling_rate_hz\n",
    ")\n",
    "# synced_dataset.add_dataset(\n",
    "#    \"biopac\", data_biopac, sync_channel_name=\"sync\", sampling_rate=dataset_biopac.sampling_rate_hz_sync\n",
    "# )\n",
    "synced_dataset.add_dataset(\n",
    "    \"radar\", data_radar, sync_channel_name=\"Sync_In\", sampling_rate=dataset_radar.sampling_rate_hz\n",
    ")"
   ]
  },
  {
   "cell_type": "code",
   "execution_count": null,
   "metadata": {},
   "outputs": [],
   "source": [
    "fig, axs = synced_dataset.plot_sync_channels(figsize=(8, 3))\n",
    "fig.tight_layout()"
   ]
  },
  {
   "cell_type": "code",
   "execution_count": null,
   "metadata": {},
   "outputs": [],
   "source": [
    "synced_dataset.cut_to_sync_start()"
   ]
  },
  {
   "cell_type": "code",
   "execution_count": null,
   "metadata": {},
   "outputs": [],
   "source": [
    "data_nilspod_cut = synced_dataset.nilspod_cut_\n",
    "data_radar_cut = synced_dataset.radar_cut_\n",
    "\n",
    "fig, ax = plt.subplots(figsize=(8, 2))\n",
    "ax2 = ax.twinx()\n",
    "data_radar_cut[[\"Sync_In\"]].plot(ax=ax)\n",
    "# data_biopac[[\"sync\"]].plot(ax=ax)\n",
    "data_nilspod_cut.filter(like=\"analog_1\").plot(ax=ax2, color=\"g\")\n",
    "fig.tight_layout()"
   ]
  },
  {
   "cell_type": "code",
   "execution_count": null,
   "metadata": {},
   "outputs": [],
   "source": [
    "synced_dataset.align_datasets(\"nilspod\", cut_to_shortest=True)"
   ]
  },
  {
   "cell_type": "code",
   "execution_count": null,
   "metadata": {},
   "outputs": [],
   "source": [
    "data_nilspod_aligned = synced_dataset.nilspod_aligned_\n",
    "data_radar_aligned = synced_dataset.radar_aligned_\n",
    "\n",
    "fig, ax = plt.subplots(figsize=(8, 3))\n",
    "ax2 = ax.twinx()\n",
    "data_radar_aligned[[\"Sync_In\"]].plot(ax=ax)\n",
    "# data_biopac[[\"sync\"]].plot(ax=ax)\n",
    "data_nilspod_aligned.filter(like=\"analog_1\").plot(ax=ax2, color=\"g\")\n",
    "fig.tight_layout()"
   ]
  },
  {
   "cell_type": "code",
   "execution_count": null,
   "metadata": {},
   "outputs": [],
   "source": [
    "fig, ax = plt.subplots()\n",
    "ax2 = ax.twinx()\n",
    "data_radar[[\"Sync_In\"]].plot(ax=ax)\n",
    "data_biopac[[\"sync\"]].plot(ax=ax)\n",
    "data_nilspod.filter(like=\"analog_1\").plot(ax=ax2, color=\"g\")\n",
    "fig.tight_layout()"
   ]
  },
  {
   "cell_type": "code",
   "execution_count": null,
   "metadata": {},
   "outputs": [],
   "source": []
  }
 ],
 "metadata": {
  "jupytext": {
   "encoding": "# -*- coding: utf-8 -*-",
   "text_representation": {
    "extension": ".py",
    "format_name": "sphinx",
    "format_version": "1.1",
    "jupytext_version": "1.13.0"
   }
  },
  "kernelspec": {
   "display_name": "envBachelorThesis",
   "language": "python",
   "name": "python3"
  },
  "language_info": {
   "codemirror_mode": {
    "name": "ipython",
    "version": 3
   },
   "file_extension": ".py",
   "mimetype": "text/x-python",
   "name": "python",
   "nbconvert_exporter": "python",
   "pygments_lexer": "ipython3",
   "version": "3.10.2"
  },
  "toc-showtags": false
 },
 "nbformat": 4,
 "nbformat_minor": 4
}
