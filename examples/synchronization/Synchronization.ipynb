{
 "cells": [
  {
   "cell_type": "markdown",
   "metadata": {},
   "source": [
    "# Synchronization"
   ]
  },
  {
   "cell_type": "markdown",
   "metadata": {},
   "source": [
    "## Setup and Helper Functions"
   ]
  },
  {
   "cell_type": "code",
   "execution_count": null,
   "metadata": {},
   "outputs": [],
   "source": [
    "import re\n",
    "import json\n",
    "\n",
    "from pathlib import Path\n",
    "\n",
    "import pandas as pd\n",
    "import numpy as np\n",
    "from scipy import signal\n",
    "\n",
    "from fau_colors import cmaps\n",
    "import biopsykit as bp\n",
    "\n",
    "from nilspodlib import Dataset\n",
    "from biopsykit.io.biopac import BiopacDataset\n",
    "from empkins_io.sensors.emrad import EmradDataset\n",
    "from empkins_io.sync import SyncedDataset\n",
    "from packaging.version import Version\n",
    "\n",
    "import matplotlib.pyplot as plt\n",
    "import seaborn as sns\n",
    "\n",
    "%matplotlib widget\n",
    "%load_ext autoreload\n",
    "%autoreload 2"
   ]
  },
  {
   "cell_type": "code",
   "execution_count": null,
   "metadata": {},
   "outputs": [],
   "source": [
    "plt.close(\"all\")\n",
    "\n",
    "palette = sns.color_palette(cmaps.faculties)\n",
    "sns.set_theme(context=\"notebook\", style=\"ticks\", font=\"sans-serif\", palette=palette)\n",
    "\n",
    "plt.rcParams[\"figure.figsize\"] = (8, 5)\n",
    "plt.rcParams[\"pdf.fonttype\"] = 42\n",
    "plt.rcParams[\"mathtext.default\"] = \"regular\"\n",
    "\n",
    "palette"
   ]
  },
  {
   "cell_type": "code",
   "execution_count": null,
   "metadata": {},
   "outputs": [],
   "source": [
    "data_path = Path(\"data\")\n",
    "\n",
    "radar_path = data_path.joinpath(\"data_sync-test-02.h5\")\n",
    "biopac_path = data_path.joinpath(\"data_sync-test-02.acq\")\n",
    "nilspod_path = sorted(data_path.glob(\"*.bin\"))[1]"
   ]
  },
  {
   "cell_type": "markdown",
   "metadata": {},
   "source": [
    "## Load Data"
   ]
  },
  {
   "cell_type": "markdown",
   "metadata": {},
   "source": [
    "### Radar"
   ]
  },
  {
   "cell_type": "code",
   "execution_count": null,
   "metadata": {},
   "outputs": [],
   "source": [
    "dataset_radar = EmradDataset.from_hd5_file(radar_path)\n",
    "data_radar = dataset_radar.data_as_df(index=\"local_datetime\", add_sync_in=True, add_sync_out=True)\n",
    "data_radar = data_radar.xs(\"rad1\", axis=1)\n",
    "\n",
    "data_radar.head()"
   ]
  },
  {
   "cell_type": "markdown",
   "metadata": {},
   "source": [
    "### NilsPod"
   ]
  },
  {
   "cell_type": "code",
   "execution_count": null,
   "metadata": {},
   "outputs": [],
   "source": [
    "dataset_nilspod = Dataset.from_bin_file(\n",
    "    nilspod_path, legacy_support=\"resolve\", force_version=Version(\"0.17.0\"), tz=\"Europe/Berlin\"\n",
    ")\n",
    "data_nilspod = dataset_nilspod.data_as_df(index=\"local_datetime\")\n",
    "data_nilspod.head()"
   ]
  },
  {
   "cell_type": "markdown",
   "metadata": {},
   "source": [
    "### Biopac"
   ]
  },
  {
   "cell_type": "code",
   "execution_count": null,
   "metadata": {
    "tags": []
   },
   "outputs": [],
   "source": [
    "dataset_biopac = BiopacDataset.from_acq_file(biopac_path)\n",
    "data_biopac = dataset_biopac.data_as_df(index=\"local_datetime\")\n",
    "\n",
    "data_biopac.head()"
   ]
  },
  {
   "cell_type": "code",
   "execution_count": null,
   "metadata": {
    "tags": []
   },
   "outputs": [],
   "source": [
    "synced_dataset = SyncedDataset(sync_type=\"peak\")\n",
    "\n",
    "synced_dataset.add_dataset(\n",
    "    \"nilspod\", data_nilspod, sync_channel_name=\"analog_1\", sampling_rate=dataset_nilspod.info.sampling_rate_hz\n",
    ")\n",
    "# synced_dataset.add_dataset(\n",
    "#    \"biopac\", data_biopac, sync_channel_name=\"sync\", sampling_rate=dataset_biopac.sampling_rate_hz_sync\n",
    "# )\n",
    "synced_dataset.add_dataset(\n",
    "    \"radar\", data_radar, sync_channel_name=\"Sync_In\", sampling_rate=dataset_radar.sampling_rate_hz\n",
    ")"
   ]
  },
  {
   "cell_type": "code",
   "execution_count": null,
   "metadata": {},
   "outputs": [],
   "source": [
    "fig, axs = synced_dataset.plot_sync_channels(figsize=(8, 3))\n",
    "fig.tight_layout()"
   ]
  },
  {
   "cell_type": "code",
   "execution_count": null,
   "metadata": {},
   "outputs": [],
   "source": [
    "synced_dataset.cut_to_sync_start()"
   ]
  },
  {
   "cell_type": "code",
   "execution_count": null,
   "metadata": {},
   "outputs": [],
   "source": [
    "data_nilspod_cut = synced_dataset.nilspod_cut_\n",
    "data_radar_cut = synced_dataset.radar_cut_\n",
    "\n",
    "fig, ax = plt.subplots(figsize=(8, 2))\n",
    "ax2 = ax.twinx()\n",
    "data_radar_cut[[\"Sync_In\"]].plot(ax=ax)\n",
    "# data_biopac[[\"sync\"]].plot(ax=ax)\n",
    "data_nilspod_cut.filter(like=\"analog_1\").plot(ax=ax2, color=\"g\")\n",
    "fig.tight_layout()"
   ]
  },
  {
   "cell_type": "code",
   "execution_count": null,
   "metadata": {},
   "outputs": [],
   "source": [
    "synced_dataset.align_datasets(\"nilspod\", cut_to_shortest=True)"
   ]
  },
  {
   "cell_type": "code",
   "execution_count": null,
   "metadata": {},
   "outputs": [],
   "source": [
    "data_nilspod_aligned = synced_dataset.nilspod_aligned_\n",
    "data_radar_aligned = synced_dataset.radar_aligned_\n",
    "\n",
    "fig, ax = plt.subplots(figsize=(8, 3))\n",
    "ax2 = ax.twinx()\n",
    "data_radar_aligned[[\"Sync_In\"]].plot(ax=ax)\n",
    "# data_biopac[[\"sync\"]].plot(ax=ax)\n",
    "data_nilspod_aligned.filter(like=\"analog_1\").plot(ax=ax2, color=\"g\")\n",
    "fig.tight_layout()"
   ]
  },
  {
   "cell_type": "code",
   "execution_count": null,
   "metadata": {},
   "outputs": [],
   "source": [
    "fig, ax = plt.subplots()\n",
    "ax2 = ax.twinx()\n",
    "data_radar[[\"Sync_In\"]].plot(ax=ax)\n",
    "data_biopac[[\"sync\"]].plot(ax=ax)\n",
    "data_nilspod.filter(like=\"analog_1\").plot(ax=ax2, color=\"g\")\n",
    "fig.tight_layout()"
   ]
  },
  {
   "cell_type": "code",
   "execution_count": null,
   "metadata": {},
   "outputs": [],
   "source": []
  }
 ],
 "metadata": {
  "jupytext": {
   "encoding": "# -*- coding: utf-8 -*-",
   "text_representation": {
    "extension": ".py",
    "format_name": "sphinx",
    "format_version": "1.1",
    "jupytext_version": "1.13.0"
   }
  },
  "kernelspec": {
   "display_name": "empkins-io",
   "language": "python",
   "name": "empkins-io"
  },
  "language_info": {
   "codemirror_mode": {
    "name": "ipython",
    "version": 3
   },
   "file_extension": ".py",
   "mimetype": "text/x-python",
   "name": "python",
   "nbconvert_exporter": "python",
   "pygments_lexer": "ipython3",
   "version": "3.9.13"
  },
  "toc-showtags": false
 },
 "nbformat": 4,
 "nbformat_minor": 4
}
